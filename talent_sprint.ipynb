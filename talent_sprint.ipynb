{
 "cells": [
  {
   "cell_type": "code",
   "execution_count": 2,
   "metadata": {},
   "outputs": [],
   "source": [
    "a1 = 123456789\n",
    "b1 = a1 * a1\n",
    "c1 = b1**5\n",
    "d1=c1**7\n",
    "x1=d1**14"
   ]
  },
  {
   "cell_type": "code",
   "execution_count": 3,
   "metadata": {},
   "outputs": [
    {
     "data": {
      "text/plain": [
       "4838131027787905552652226919333565644231738311180717417167695953245058801291356740032196436795613343883036234528215293113033636397625405739128413812189441549874428230144979798024965096459465720199394889032587805491822030148103560990691946639585354663097168276779211343974715307471290069752938019636892037506122800591780726640809644758161757752823116821323737931277105678806982404365969552501415897761351648358784774924832958231921507481004263686782957440180736690426305470557017082987113710547433703224489813468816681354741580823250135767267346754594372639362539663167742749151844155612280878591009869977451213100676004471124217311115116593304228157389236621413937320624075266053351325772888427479881449913485555229689630792617550303221485786279699254869479491909245371680198229769221305016140458991865293604226639718026129219649919072631662853563711648808994373141109201183670675074594959666782358509508383849596240781328589662140517690842793693829059439604087642488176582718802327033099685375064950556645031886564383942891980611816574010116699462152210893309743574304779981479729092847181272477605635862769205505934929001536761983032777293226232765734104449338404249752371477196984409776313667471086497912068181891789832349627361312370456204293542255062032877215662598899660951385916130645479368220293089316154131301362973896535540183697063357222512928031419668092353826964171914358288999326890563512829086489214292276761813227190377520119128369493229450070201150496941644734881508612147926128987593593130372240010593950275875218530083467666930974277019604519086289281059554136117819149180371951199164234375640150503336585049413097110480685287381802211984284533836370283067904306095894211566791286978804369092394523515866588341191585865253686532925620035702276324573138973725424727664105210566782253589622978257879626029009591125728564859777216876531052235487095527982750925334823026310473651997542494082392044976145314188704093251683831764455922857803023636954497951789578772588547869886043214319829315390546377130355311207496949661018152048435544599510224277787466474300086678002919964229377390339313522157446046311432694577030060290853871296137267539601484628004257687145180809965837286311671950556893415074093609306500510341802306165057165826323744201285002405028804105779013063114203922493944561621525186597433023063871249642783046812005760187687487453990639735581325121712563988561194438517839539661340027561433289162423628271466993073751838766528025467392202825210940214960807320046169037226476173029119588945874830934282214908409810309144728821724345999345647131427884973817624091160379201131091739759967222480102810612619402919252231246760058623760947843505649348979672703582874589072282229963847398720727253555907367808321680837286764250364861848014775891347190905206982419372023173290206654603664314038112676995853678930635446375549288143306732329999030723701734766983899140884726608614854596204571865127377697376880547927676936782880566351323475155734581824877660279662618493477958607736149319236463566494851614412973011053508082426265371025631791018734225432099058791522401042045878962837657738078976819558307120213606472298225662506018756786151353124784330332600988813736674507473126786374900759569041872676947711733654734544768080503801497035925886956581326840577288988512979341753292423520977828636137376758656269031199007123268723089548062551791949857844245233140678598553295852275689728973436154275653881298125991369869682449230874444778410544899394177884280251692782019681278794425718149915601046759537082726487141748632811072757593434961217985300426211084174935271635675372542047021090570628347724842793521930461739872173284615516924939247212084457639011688907921600801778022330725917268597544681440005835260464511436879395318141484084405291926333637114391015423111155987073320693154720631512416135134667279685715854901921935960486118612423235557670694398078955420035908485761738606975895423151513143802068543121994204054028436002630329012665628283346817524236605417515242646103895573820699600757462830625009852908157574469547942182716610376051982500963994842229736168130657680745784204000575497355317136373755729267643532728435300482027378883145708439241488612459792743035712671916792001999062117277056134782550680498342345493683095809084947738493123145104933714664791443257351727661648838667783843292725046470811208377600559694626955383258863591981982558999168569983996625992093694527884124460093014206964864234491502109192661764157097122445466947544362241679033979843223085252753944658059943809604899297230854736804761471805090439597520167899963956429873736686839798730997592806701300533815945340101332815714461755760948761267468017036762099675414161847476186195672424760930617781220090510740520364521088785794916145090723341897271352832870388359559682304942623217230528400768713481931464717860519489791163862831356118737855690764910463234071934856961736461128402787813579613076787272702374401546404686501490789133093384490500985543789964196222535786343097038466824570149016920527625783147192728745619798390620665452233046306145143202061694031873909450600773633940514336355056498251736257698301255466474965364884168222833649911712735122126865204326152742808345059043394230057656152369588745706547129173670914434840895560339837397498597301944464522164579256865026626955373967701376934466652570600140661667031729815491247175938509978273566783938798371954963394064895375603646601249918803006709873304536899033058479694108888893603659226690847466838535954903385461576590607031388495143360979553107630897105284042361353112761360238472607961962249416999585520239689890791655999120454528448181498170306214873438437916729008507121425025038713177624743403333690875969171429954576591619024056132222987097773758925276266844161312462090697536278793149520463446436414385323052274507341592680714087712683335022970143538072283876606336197445172785795299579685603205456955323422590738756179189021542139145305168853738556376809984643734186342751293251133403673090323351792547379902954138994399820711888196452729462363840487871962814080252038930983244083622379464551748849248578556267323320780910685323370384880616158817215905466157654744637879692805845637356834680073377768801715550728271552027169124930063626033283882368173397259427974887346699383468801632697996194516303398656053539008068344324952021353835010662351042614803709086942986404281820846168001195464254539365216502111795527016764133586152545635411403177083771614621198685431906582771859439369469278646250276664212762324913255193621107161345622626241959988478549608087341999172186743084933630598998370758474640590945633138060182037712533659356486485630505425239436356865177186949884991348342893435749083517955285871718675718951657759611737416011329686931475956290206345933701814283899766642592915463994312481556141840157939555589750540447064993306501299447200039619960428509320336059716135674598065219181918978443785680597141200795232449523348324524466471733760323096484724207103025817698673370866871129614288505300605311000054207512610536834575435126518523043823039491680929456865727368940365802504269571319850104218114100075303156813932349050506406306145608855507784938185794741786038869073349391652457471004105898731802691673810719401995716732363221805017326183671006016948894530686725467873451153133262091196663272024384144993982872254630611231955377929037189953420092010955927513229834780382711073486092261200229430859147925471815802011299069434484820104015006187531426537123611180725858286145360446879261621820609651939419324125307557447704249875695059161601852102149228080778578311336389298567958478389762686413740316920863147110455907950337571688775988594823640320098770533874099259577099592110192149429887284047292134127001195724240221065637264940356635601914003034754423416394827685308850331193260015656597630245629485984431331594231419017919628803696432274450556848694971564731779995800468321589936475392403649219786270133994815096312421939438866801"
      ]
     },
     "execution_count": 3,
     "metadata": {},
     "output_type": "execute_result"
    }
   ],
   "source": [
    "x1"
   ]
  },
  {
   "cell_type": "code",
   "execution_count": 19,
   "metadata": {},
   "outputs": [],
   "source": [
    "def isPrime(n):\n",
    "    if n in [2, 3, 5, 7]:\n",
    "        return True\n",
    "    if n % 2 == 0:\n",
    "        return False\n",
    "    r = 3\n",
    "    while r * r <=n:\n",
    "        if n % r == 0:\n",
    "            return False\n",
    "            r += 2\n",
    "    return True \n",
    "            "
   ]
  },
  {
   "cell_type": "code",
   "execution_count": 46,
   "metadata": {},
   "outputs": [
    {
     "name": "stdout",
     "output_type": "stream",
     "text": [
      "25\n",
      "125\n",
      "15\n",
      "32\n"
     ]
    },
    {
     "ename": "NameError",
     "evalue": "name 'f' is not defined",
     "output_type": "error",
     "traceback": [
      "\u001b[1;31m---------------------------------------------------------------------------\u001b[0m",
      "\u001b[1;31mNameError\u001b[0m                                 Traceback (most recent call last)",
      "\u001b[1;32m<ipython-input-46-ade9d25b2f65>\u001b[0m in \u001b[0;36m<module>\u001b[1;34m()\u001b[0m\n\u001b[0;32m     17\u001b[0m         \u001b[0mr\u001b[0m\u001b[1;33m+=\u001b[0m\u001b[1;36m1\u001b[0m\u001b[1;33m\u001b[0m\u001b[0m\n\u001b[0;32m     18\u001b[0m     \u001b[1;32mreturn\u001b[0m \u001b[0mf\u001b[0m\u001b[1;33m(\u001b[0m\u001b[0mr\u001b[0m\u001b[1;33m)\u001b[0m \u001b[1;33m==\u001b[0m \u001b[0mn\u001b[0m\u001b[1;33m\u001b[0m\u001b[0m\n\u001b[1;32m---> 19\u001b[1;33m \u001b[0mprint\u001b[0m\u001b[1;33m(\u001b[0m\u001b[0minv\u001b[0m\u001b[1;33m(\u001b[0m\u001b[0mf\u001b[0m\u001b[1;33m,\u001b[0m\u001b[0mn\u001b[0m\u001b[1;33m)\u001b[0m\u001b[1;33m)\u001b[0m\u001b[1;33m\u001b[0m\u001b[0m\n\u001b[0m\u001b[0;32m     20\u001b[0m \u001b[1;32mdef\u001b[0m \u001b[0misPerfectSquare\u001b[0m\u001b[1;33m(\u001b[0m\u001b[0mn\u001b[0m\u001b[1;33m)\u001b[0m\u001b[1;33m:\u001b[0m\u001b[1;33m\u001b[0m\u001b[0m\n\u001b[0;32m     21\u001b[0m     \u001b[1;32mreturn\u001b[0m \u001b[0minv\u001b[0m\u001b[1;33m(\u001b[0m\u001b[0msquare\u001b[0m\u001b[1;33m,\u001b[0m\u001b[0mn\u001b[0m\u001b[1;33m)\u001b[0m\u001b[1;33m\u001b[0m\u001b[0m\n",
      "\u001b[1;31mNameError\u001b[0m: name 'f' is not defined"
     ]
    }
   ],
   "source": [
    "n=5\n",
    "def square(n):\n",
    "    return n * n\n",
    "print(square(n))\n",
    "def cube(n):\n",
    "    return n * n * n\n",
    "print(cube(n))\n",
    "def triangular(n):\n",
    "    return (n * (n+1)) // 2\n",
    "print(triangular(n))\n",
    "def power2(n):\n",
    "    return 2 ** n\n",
    "print(power2(n))\n",
    "def inv(f,n):\n",
    "    r=0\n",
    "    while f(r) < n:\n",
    "        r+=1\n",
    "    return f(r) == n\n",
    "print(inv(f,n))\n",
    "def isPerfectSquare(n):\n",
    "    return inv(square,n)\n",
    "print(isPerfectSquare(n))"
   ]
  },
  {
   "cell_type": "code",
   "execution_count": 25,
   "metadata": {},
   "outputs": [
    {
     "data": {
      "text/plain": [
       "<map at 0x2196f065c88>"
      ]
     },
     "execution_count": 25,
     "metadata": {},
     "output_type": "execute_result"
    }
   ],
   "source": [
    "map(square,[2,5,7])"
   ]
  },
  {
   "cell_type": "code",
   "execution_count": 26,
   "metadata": {},
   "outputs": [
    {
     "data": {
      "text/plain": [
       "[9, 36, 64]"
      ]
     },
     "execution_count": 26,
     "metadata": {},
     "output_type": "execute_result"
    }
   ],
   "source": [
    "list(map(square,[3,6,8]))"
   ]
  },
  {
   "cell_type": "code",
   "execution_count": 21,
   "metadata": {},
   "outputs": [
    {
     "data": {
      "text/plain": [
       "3"
      ]
     },
     "execution_count": 21,
     "metadata": {},
     "output_type": "execute_result"
    }
   ],
   "source": [
    "a = len\n",
    "a([1,2,3])"
   ]
  },
  {
   "cell_type": "code",
   "execution_count": 32,
   "metadata": {},
   "outputs": [
    {
     "name": "stdout",
     "output_type": "stream",
     "text": [
      "[1, 2, 'FIZZ', 4, 'BUZZ', 'FIZZ', 7, 8, 'FIZZ', 'BUZZ', 11, 'FIZZ', 13, 14, 'FIZZBUZZ', 16, 17, 'FIZZ', 19, 'BUZZ', 'FIZZ', 22, 23, 'FIZZ', 'BUZZ', 26, 'FIZZ', 28, 29, 'FIZZBUZZ', 31, 32, 'FIZZ', 34, 'BUZZ']\n"
     ]
    }
   ],
   "source": [
    "l=[]\n",
    "n=35\n",
    "for i in range(1,n+1):\n",
    "    if i % 3 == 0 and i%5 != 0:\n",
    "        l.append(\"FIZZ\")\n",
    "    elif i % 5 == 0 and i%3 != 0:\n",
    "        l.append(\"BUZZ\")\n",
    "    elif i % 15 == 0:\n",
    "        l.append(\"FIZZBUZZ\")\n",
    "    else:\n",
    "        l.append(i)\n",
    "print(l)\n"
   ]
  },
  {
   "cell_type": "code",
   "execution_count": 38,
   "metadata": {},
   "outputs": [
    {
     "name": "stdout",
     "output_type": "stream",
     "text": [
      "['1', '2', 'FIZZ', '4', 'BUZZ', 'FIZZ', '7', '8', 'FIZZ', 'BUZZ', '11', 'FIZZ', '13', '14', 'FIZZBUZZ', '16', '17', 'FIZZ', '19', 'BUZZ', 'FIZZ', '22', '23', 'FIZZ', 'BUZZ', '26', 'FIZZ', '28', '29', 'FIZZBUZZ', '31', '32', 'FIZZ', '34', 'BUZZ', 'FIZZ', '37', '38', 'FIZZ', 'BUZZ', '41', 'FIZZ', '43', '44', 'FIZZBUZZ', '46', '47', 'FIZZ', '49', 'BUZZ']\n"
     ]
    }
   ],
   "source": [
    "# Python way of solving FIZZBUZZ\n",
    "def pick(n):\n",
    "    return int(n % 3 == 0) + 2 * int(n % 5 == 0)\n",
    "def fb(n):\n",
    "    return [str(n), \"FIZZ\",\"BUZZ\",\"FIZZBUZZ\"][pick(n)]\n",
    "def fizzbuzz(N):\n",
    "    return [fb(n) for n in range(1,N+1)]\n",
    "print(fizzbuzz(50))\n",
    "\n",
    "                                "
   ]
  },
  {
   "cell_type": "code",
   "execution_count": 45,
   "metadata": {
    "scrolled": true
   },
   "outputs": [
    {
     "name": "stdout",
     "output_type": "stream",
     "text": [
      "FIZZBUZZ\n",
      "1\n",
      "2\n",
      "FIZZ\n",
      "4\n",
      "BUZZ\n",
      "FIZZ\n",
      "7\n",
      "8\n",
      "FIZZ\n",
      "BUZZ\n",
      "11\n",
      "FIZZ\n",
      "13\n",
      "14\n",
      "FIZZBUZZ\n",
      "16\n",
      "17\n",
      "FIZZ\n",
      "19\n",
      "BUZZ\n",
      "FIZZ\n",
      "22\n",
      "23\n",
      "FIZZ\n",
      "BUZZ\n",
      "26\n",
      "FIZZ\n",
      "28\n",
      "29\n",
      "FIZZBUZZ\n",
      "31\n",
      "32\n",
      "FIZZ\n",
      "34\n",
      "BUZZ\n",
      "FIZZ\n",
      "37\n",
      "38\n",
      "FIZZ\n",
      "BUZZ\n",
      "41\n",
      "FIZZ\n",
      "43\n",
      "44\n",
      "FIZZBUZZ\n",
      "46\n",
      "47\n",
      "FIZZ\n",
      "49\n",
      "BUZZ\n"
     ]
    }
   ],
   "source": [
    "def fb2(n):\n",
    "    return int(n % 3 == 0) * \"FIZZ\" + int(n % 5 == 0) * \"BUZZ\" or str(n)\n",
    "for i in range(51):\n",
    "    print(fb2(i))"
   ]
  },
  {
   "cell_type": "code",
   "execution_count": 55,
   "metadata": {},
   "outputs": [
    {
     "name": "stdout",
     "output_type": "stream",
     "text": [
      "None\n",
      "1\n",
      "2\n",
      "None\n",
      "4\n",
      "None\n",
      "None\n",
      "7\n",
      "8\n",
      "None\n",
      "None\n",
      "11\n",
      "None\n",
      "13\n",
      "14\n",
      "None\n",
      "16\n",
      "17\n",
      "None\n",
      "19\n",
      "None\n",
      "None\n",
      "22\n",
      "23\n",
      "None\n",
      "None\n",
      "26\n",
      "None\n",
      "28\n",
      "29\n",
      "None\n",
      "31\n",
      "32\n",
      "None\n",
      "34\n",
      "None\n",
      "None\n",
      "37\n",
      "38\n",
      "None\n",
      "None\n",
      "41\n",
      "None\n",
      "43\n",
      "44\n",
      "None\n",
      "46\n",
      "47\n",
      "None\n",
      "49\n",
      "None\n"
     ]
    }
   ],
   "source": [
    "def fb2(n):\n",
    "    fb = int(n % 3 == 0) * \"FIZZ\" + int(n % 5 == 0) * \"BUZZ\"\n",
    "    if len(fb) == 0:\n",
    "        return str(n)\n",
    "    else: fb\n",
    "for i in range(51):\n",
    "    print(fb2(i))"
   ]
  },
  {
   "cell_type": "code",
   "execution_count": 51,
   "metadata": {},
   "outputs": [
    {
     "name": "stdout",
     "output_type": "stream",
     "text": [
      "FIZZBUZZ\n",
      "1\n",
      "2\n",
      "FIZZ\n",
      "4\n",
      "BUZZ\n",
      "FIZZ\n",
      "7\n",
      "8\n",
      "FIZZ\n",
      "BUZZ\n",
      "11\n",
      "FIZZ\n",
      "13\n",
      "14\n",
      "FIZZBUZZ\n",
      "16\n",
      "17\n",
      "FIZZ\n",
      "19\n",
      "BUZZ\n",
      "FIZZ\n",
      "22\n",
      "23\n",
      "FIZZ\n",
      "BUZZ\n",
      "26\n",
      "FIZZ\n",
      "28\n",
      "29\n",
      "FIZZBUZZ\n",
      "31\n",
      "32\n",
      "FIZZ\n",
      "34\n",
      "BUZZ\n",
      "FIZZ\n",
      "37\n",
      "38\n",
      "FIZZ\n",
      "BUZZ\n",
      "41\n",
      "FIZZ\n",
      "43\n",
      "44\n",
      "FIZZBUZZ\n",
      "46\n",
      "47\n",
      "FIZZ\n",
      "49\n",
      "BUZZ\n"
     ]
    }
   ],
   "source": [
    "def fb2(n):\n",
    "    fb = int(n % 3 == 0) * \"FIZZ\" + int(n % 5 == 0) * \"BUZZ\"\n",
    "    return str(n) if len(fb)==0 else fb\n",
    "for i in range(51):\n",
    "    print(fb2(i))"
   ]
  },
  {
   "cell_type": "code",
   "execution_count": 7,
   "metadata": {},
   "outputs": [
    {
     "name": "stdout",
     "output_type": "stream",
     "text": [
      " *  \r\n",
      " *   *  \r\n",
      " *   *   *  \r\n",
      " *   *   *   *  \r\n",
      " *   *   *   *   *  \r\n"
     ]
    }
   ],
   "source": [
    "def pypart(n): \n",
    "    for i in range(0, n): \n",
    "        for j in range(0, i+1): \n",
    "            print(\" * \",end=\" \") \n",
    "        print(\"\\r\") \n",
    "n = 5\n",
    "pypart(n) "
   ]
  },
  {
   "cell_type": "code",
   "execution_count": 28,
   "metadata": {},
   "outputs": [
    {
     "name": "stdout",
     "output_type": "stream",
     "text": [
      "        * \r\n",
      "       * * \r\n",
      "      * * * \r\n",
      "     * * * * \r\n",
      "    * * * * * \r\n"
     ]
    }
   ],
   "source": [
    "#import pdb\n",
    "def triangle(n): \n",
    "    k = 2*n - 2\n",
    "    for i in range(0, n): \n",
    "        #pdb.set_trace()\n",
    "        for j in range(0, k): \n",
    "            print(end=\" \") \n",
    "        k = k - 1\n",
    "        for j in range(0, i+1): \n",
    "            print(\"* \", end=\"\") \n",
    "        print(\"\\r\") \n",
    "n = 5\n",
    "triangle(n) "
   ]
  },
  {
   "cell_type": "code",
   "execution_count": 29,
   "metadata": {},
   "outputs": [
    {
     "name": "stdout",
     "output_type": "stream",
     "text": [
      "                        *\n",
      "                       ***\n",
      "                      *****\n",
      "                     *******\n",
      "                    *********\n",
      "                   ***********\n",
      "                  *************\n",
      "                 ***************\n",
      "                *****************\n",
      "               *******************\n"
     ]
    }
   ],
   "source": [
    "import sys\n",
    "SIZE = 10 #int(sys.argv[2])\n",
    "STAR = \"*\"\n",
    "WIDTH = 24\n",
    "SPACE = \" \"\n",
    "def leadSpace(n):\n",
    "    return (WIDTH -n) * SPACE\n",
    "def aLine(n):\n",
    "    return leadSpace(n) + (2 * n + 1) * STAR\n",
    "for n in range(SIZE):\n",
    "    print(aLine(n))"
   ]
  },
  {
   "cell_type": "code",
   "execution_count": 32,
   "metadata": {},
   "outputs": [
    {
     "ename": "NameError",
     "evalue": "name 'starpatter' is not defined",
     "output_type": "error",
     "traceback": [
      "\u001b[1;31m---------------------------------------------------------------------------\u001b[0m",
      "\u001b[1;31mNameError\u001b[0m                                 Traceback (most recent call last)",
      "\u001b[1;32m<ipython-input-32-4d03b036ff2b>\u001b[0m in \u001b[0;36m<module>\u001b[1;34m()\u001b[0m\n\u001b[0;32m     23\u001b[0m     \u001b[1;32mreturn\u001b[0m \u001b[0mep\u001b[0m\u001b[1;33m\u001b[0m\u001b[0m\n\u001b[0;32m     24\u001b[0m \u001b[1;33m\u001b[0m\u001b[0m\n\u001b[1;32m---> 25\u001b[1;33m \u001b[0mprint\u001b[0m\u001b[1;33m(\u001b[0m\u001b[0mpyramid\u001b[0m\u001b[1;33m(\u001b[0m\u001b[0msize\u001b[0m\u001b[1;33m)\u001b[0m\u001b[1;33m)\u001b[0m\u001b[1;33m\u001b[0m\u001b[0m\n\u001b[0m",
      "\u001b[1;32m<ipython-input-32-4d03b036ff2b>\u001b[0m in \u001b[0;36mpyramid\u001b[1;34m(n)\u001b[0m\n\u001b[0;32m     11\u001b[0m \u001b[0mep\u001b[0m\u001b[1;33m=\u001b[0m\u001b[0mbs\u001b[0m\u001b[1;33m+\u001b[0m\u001b[0msharp\u001b[0m\u001b[1;33m+\u001b[0m\u001b[0mcrlf\u001b[0m\u001b[1;33m\u001b[0m\u001b[0m\n\u001b[0;32m     12\u001b[0m \u001b[1;32mdef\u001b[0m \u001b[0mpyramid\u001b[0m\u001b[1;33m(\u001b[0m\u001b[0mn\u001b[0m\u001b[1;33m:\u001b[0m \u001b[0mint\u001b[0m\u001b[1;33m)\u001b[0m\u001b[1;33m->\u001b[0m\u001b[0mstr\u001b[0m\u001b[1;33m:\u001b[0m\u001b[1;33m\u001b[0m\u001b[0m\n\u001b[1;32m---> 13\u001b[1;33m     \u001b[1;32mreturn\u001b[0m \u001b[1;34m' '\u001b[0m\u001b[1;33m.\u001b[0m\u001b[0mjoin\u001b[0m\u001b[1;33m(\u001b[0m\u001b[1;33m[\u001b[0m\u001b[0maline\u001b[0m\u001b[1;33m(\u001b[0m\u001b[0mn\u001b[0m\u001b[1;33m)\u001b[0m\u001b[1;33m]\u001b[0m \u001b[1;32mfor\u001b[0m \u001b[0mn\u001b[0m \u001b[1;32min\u001b[0m \u001b[0mrange\u001b[0m\u001b[1;33m(\u001b[0m\u001b[0mn\u001b[0m\u001b[1;33m)\u001b[0m\u001b[1;33m)\u001b[0m\u001b[1;33m\u001b[0m\u001b[0m\n\u001b[0m\u001b[0;32m     14\u001b[0m \u001b[1;32mdef\u001b[0m \u001b[0maline\u001b[0m\u001b[1;33m(\u001b[0m\u001b[0mn\u001b[0m\u001b[1;33m:\u001b[0m \u001b[0mint\u001b[0m\u001b[1;33m)\u001b[0m\u001b[1;33m->\u001b[0m\u001b[0mstr\u001b[0m\u001b[1;33m:\u001b[0m\u001b[1;33m\u001b[0m\u001b[0m\n\u001b[0;32m     15\u001b[0m     \u001b[1;32mreturn\u001b[0m \u001b[0mleadspace\u001b[0m\u001b[1;33m(\u001b[0m\u001b[0mn\u001b[0m\u001b[1;33m)\u001b[0m \u001b[1;33m+\u001b[0m \u001b[0mstarpatter\u001b[0m\u001b[1;33m(\u001b[0m\u001b[0mn\u001b[0m\u001b[1;33m)\u001b[0m\u001b[1;33m+\u001b[0m\u001b[0mrepeatpattern\u001b[0m\u001b[1;33m(\u001b[0m\u001b[0mn\u001b[0m\u001b[1;33m)\u001b[0m\u001b[1;33m+\u001b[0m\u001b[0mendpattern\u001b[0m\u001b[1;33m(\u001b[0m\u001b[0mn\u001b[0m\u001b[1;33m)\u001b[0m\u001b[1;33m\u001b[0m\u001b[0m\n",
      "\u001b[1;32m<ipython-input-32-4d03b036ff2b>\u001b[0m in \u001b[0;36m<genexpr>\u001b[1;34m(.0)\u001b[0m\n\u001b[0;32m     11\u001b[0m \u001b[0mep\u001b[0m\u001b[1;33m=\u001b[0m\u001b[0mbs\u001b[0m\u001b[1;33m+\u001b[0m\u001b[0msharp\u001b[0m\u001b[1;33m+\u001b[0m\u001b[0mcrlf\u001b[0m\u001b[1;33m\u001b[0m\u001b[0m\n\u001b[0;32m     12\u001b[0m \u001b[1;32mdef\u001b[0m \u001b[0mpyramid\u001b[0m\u001b[1;33m(\u001b[0m\u001b[0mn\u001b[0m\u001b[1;33m:\u001b[0m \u001b[0mint\u001b[0m\u001b[1;33m)\u001b[0m\u001b[1;33m->\u001b[0m\u001b[0mstr\u001b[0m\u001b[1;33m:\u001b[0m\u001b[1;33m\u001b[0m\u001b[0m\n\u001b[1;32m---> 13\u001b[1;33m     \u001b[1;32mreturn\u001b[0m \u001b[1;34m' '\u001b[0m\u001b[1;33m.\u001b[0m\u001b[0mjoin\u001b[0m\u001b[1;33m(\u001b[0m\u001b[1;33m[\u001b[0m\u001b[0maline\u001b[0m\u001b[1;33m(\u001b[0m\u001b[0mn\u001b[0m\u001b[1;33m)\u001b[0m\u001b[1;33m]\u001b[0m \u001b[1;32mfor\u001b[0m \u001b[0mn\u001b[0m \u001b[1;32min\u001b[0m \u001b[0mrange\u001b[0m\u001b[1;33m(\u001b[0m\u001b[0mn\u001b[0m\u001b[1;33m)\u001b[0m\u001b[1;33m)\u001b[0m\u001b[1;33m\u001b[0m\u001b[0m\n\u001b[0m\u001b[0;32m     14\u001b[0m \u001b[1;32mdef\u001b[0m \u001b[0maline\u001b[0m\u001b[1;33m(\u001b[0m\u001b[0mn\u001b[0m\u001b[1;33m:\u001b[0m \u001b[0mint\u001b[0m\u001b[1;33m)\u001b[0m\u001b[1;33m->\u001b[0m\u001b[0mstr\u001b[0m\u001b[1;33m:\u001b[0m\u001b[1;33m\u001b[0m\u001b[0m\n\u001b[0;32m     15\u001b[0m     \u001b[1;32mreturn\u001b[0m \u001b[0mleadspace\u001b[0m\u001b[1;33m(\u001b[0m\u001b[0mn\u001b[0m\u001b[1;33m)\u001b[0m \u001b[1;33m+\u001b[0m \u001b[0mstarpatter\u001b[0m\u001b[1;33m(\u001b[0m\u001b[0mn\u001b[0m\u001b[1;33m)\u001b[0m\u001b[1;33m+\u001b[0m\u001b[0mrepeatpattern\u001b[0m\u001b[1;33m(\u001b[0m\u001b[0mn\u001b[0m\u001b[1;33m)\u001b[0m\u001b[1;33m+\u001b[0m\u001b[0mendpattern\u001b[0m\u001b[1;33m(\u001b[0m\u001b[0mn\u001b[0m\u001b[1;33m)\u001b[0m\u001b[1;33m\u001b[0m\u001b[0m\n",
      "\u001b[1;32m<ipython-input-32-4d03b036ff2b>\u001b[0m in \u001b[0;36maline\u001b[1;34m(n)\u001b[0m\n\u001b[0;32m     13\u001b[0m     \u001b[1;32mreturn\u001b[0m \u001b[1;34m' '\u001b[0m\u001b[1;33m.\u001b[0m\u001b[0mjoin\u001b[0m\u001b[1;33m(\u001b[0m\u001b[1;33m[\u001b[0m\u001b[0maline\u001b[0m\u001b[1;33m(\u001b[0m\u001b[0mn\u001b[0m\u001b[1;33m)\u001b[0m\u001b[1;33m]\u001b[0m \u001b[1;32mfor\u001b[0m \u001b[0mn\u001b[0m \u001b[1;32min\u001b[0m \u001b[0mrange\u001b[0m\u001b[1;33m(\u001b[0m\u001b[0mn\u001b[0m\u001b[1;33m)\u001b[0m\u001b[1;33m)\u001b[0m\u001b[1;33m\u001b[0m\u001b[0m\n\u001b[0;32m     14\u001b[0m \u001b[1;32mdef\u001b[0m \u001b[0maline\u001b[0m\u001b[1;33m(\u001b[0m\u001b[0mn\u001b[0m\u001b[1;33m:\u001b[0m \u001b[0mint\u001b[0m\u001b[1;33m)\u001b[0m\u001b[1;33m->\u001b[0m\u001b[0mstr\u001b[0m\u001b[1;33m:\u001b[0m\u001b[1;33m\u001b[0m\u001b[0m\n\u001b[1;32m---> 15\u001b[1;33m     \u001b[1;32mreturn\u001b[0m \u001b[0mleadspace\u001b[0m\u001b[1;33m(\u001b[0m\u001b[0mn\u001b[0m\u001b[1;33m)\u001b[0m \u001b[1;33m+\u001b[0m \u001b[0mstarpatter\u001b[0m\u001b[1;33m(\u001b[0m\u001b[0mn\u001b[0m\u001b[1;33m)\u001b[0m\u001b[1;33m+\u001b[0m\u001b[0mrepeatpattern\u001b[0m\u001b[1;33m(\u001b[0m\u001b[0mn\u001b[0m\u001b[1;33m)\u001b[0m\u001b[1;33m+\u001b[0m\u001b[0mendpattern\u001b[0m\u001b[1;33m(\u001b[0m\u001b[0mn\u001b[0m\u001b[1;33m)\u001b[0m\u001b[1;33m\u001b[0m\u001b[0m\n\u001b[0m\u001b[0;32m     16\u001b[0m \u001b[1;32mdef\u001b[0m \u001b[0mleadspace\u001b[0m\u001b[1;33m(\u001b[0m\u001b[0mn\u001b[0m\u001b[1;33m:\u001b[0m \u001b[0mint\u001b[0m\u001b[1;33m)\u001b[0m\u001b[1;33m->\u001b[0m\u001b[0mstr\u001b[0m\u001b[1;33m:\u001b[0m\u001b[1;33m\u001b[0m\u001b[0m\n\u001b[0;32m     17\u001b[0m     \u001b[1;32mreturn\u001b[0m \u001b[1;33m(\u001b[0m\u001b[0mwidth\u001b[0m\u001b[1;33m-\u001b[0m\u001b[0mn\u001b[0m\u001b[1;33m)\u001b[0m\u001b[1;33m*\u001b[0m\u001b[0mspace\u001b[0m\u001b[1;33m\u001b[0m\u001b[0m\n",
      "\u001b[1;31mNameError\u001b[0m: name 'starpatter' is not defined"
     ]
    }
   ],
   "source": [
    "size=10\n",
    "width=40\n",
    "star=\"*\"\n",
    "sharp=\"#\"\n",
    "minus=\"-\"\n",
    "space=\" \"\n",
    "crlf=\"\\n\"\n",
    "bs=\"\\b\"\n",
    "sp=sharp\n",
    "rp=minus+minus\n",
    "ep=bs+sharp+crlf\n",
    "def pyramid(n: int)->str:\n",
    "    return ' '.join([aline(n)] for n in range(n))\n",
    "def aline(n: int)->str:\n",
    "    return leadspace(n) + starpatter(n)+repeatpattern(n)+endpattern(n)\n",
    "def leadspace(n: int)->str:\n",
    "    return (width-n)*space\n",
    "def startpattern(n):\n",
    "    return sp\n",
    "def repeatpattern(n):\n",
    "    return rp * n\n",
    "def endpattern(n):\n",
    "    return ep\n",
    "\n",
    "print(pyramid(size))"
   ]
  },
  {
   "cell_type": "code",
   "execution_count": 31,
   "metadata": {},
   "outputs": [
    {
     "name": "stdout",
     "output_type": "stream",
     "text": [
      "        * \r\n",
      "       * * \r\n",
      "      * * * \r\n",
      "     * * * * \r\n",
      "    * * * * * \r\n"
     ]
    }
   ],
   "source": [
    "#import pdb\n",
    "def triangle(n): \n",
    "    k = 2*n - 2\n",
    "    for i in range(0, n): \n",
    "        #pdb.set_trace()\n",
    "        for j in range(0, k): \n",
    "            print(end=\" \") \n",
    "        k = k - 1\n",
    "        for j in range(0, i+1): \n",
    "            print(\"* \", end=\"\") \n",
    "        print(\"\\r\") \n",
    "n = 5\n",
    "triangle(n) "
   ]
  },
  {
   "cell_type": "code",
   "execution_count": 33,
   "metadata": {},
   "outputs": [
    {
     "data": {
      "text/plain": [
       "['Hell', ' W', 'rld']"
      ]
     },
     "execution_count": 33,
     "metadata": {},
     "output_type": "execute_result"
    }
   ],
   "source": [
    "a=\"Hello World\"\n",
    "a.split(\"o\")"
   ]
  },
  {
   "cell_type": "code",
   "execution_count": 39,
   "metadata": {},
   "outputs": [
    {
     "data": {
      "text/plain": [
       "'HellP WPrld'"
      ]
     },
     "execution_count": 39,
     "metadata": {},
     "output_type": "execute_result"
    }
   ],
   "source": [
    "a=\"Hello World\"\n",
    "\"P\".join(a.split(\"o\"))\n"
   ]
  },
  {
   "cell_type": "code",
   "execution_count": 46,
   "metadata": {},
   "outputs": [
    {
     "data": {
      "text/plain": [
       "'Dr.sreedhar JINKA BVRIT'"
      ]
     },
     "execution_count": 46,
     "metadata": {},
     "output_type": "execute_result"
    }
   ],
   "source": [
    "x=[\"Dr.sreedhar\",\"JINKA\",\"BVRIT\"]\n",
    "' '.join(x)"
   ]
  },
  {
   "cell_type": "code",
   "execution_count": 47,
   "metadata": {},
   "outputs": [
    {
     "data": {
      "text/plain": [
       "'Dr.sreedhar\\nJINKA\\nBVRIT'"
      ]
     },
     "execution_count": 47,
     "metadata": {},
     "output_type": "execute_result"
    }
   ],
   "source": [
    "'\\n'.join(x)\n"
   ]
  },
  {
   "cell_type": "code",
   "execution_count": 48,
   "metadata": {},
   "outputs": [
    {
     "name": "stdout",
     "output_type": "stream",
     "text": [
      "Dr.sreedhar\n",
      "JINKA\n",
      "BVRIT\n"
     ]
    }
   ],
   "source": [
    "print('\\n'.join(x))\n"
   ]
  },
  {
   "cell_type": "code",
   "execution_count": 65,
   "metadata": {},
   "outputs": [
    {
     "name": "stdout",
     "output_type": "stream",
     "text": [
      "0\n",
      "0\n"
     ]
    },
    {
     "ename": "TypeError",
     "evalue": "unsupported operand type(s) for +: 'NoneType' and 'NoneType'",
     "output_type": "error",
     "traceback": [
      "\u001b[1;31m---------------------------------------------------------------------------\u001b[0m",
      "\u001b[1;31mTypeError\u001b[0m                                 Traceback (most recent call last)",
      "\u001b[1;32m<ipython-input-65-f0933c2c5a8d>\u001b[0m in \u001b[0;36m<module>\u001b[1;34m()\u001b[0m\n\u001b[0;32m      6\u001b[0m     \u001b[0mprint\u001b[0m\u001b[1;33m(\u001b[0m\u001b[0mtot\u001b[0m\u001b[1;33m)\u001b[0m\u001b[1;33m\u001b[0m\u001b[0m\n\u001b[0;32m      7\u001b[0m \u001b[0mn\u001b[0m\u001b[1;33m=\u001b[0m\u001b[1;36m5\u001b[0m\u001b[1;33m\u001b[0m\u001b[0m\n\u001b[1;32m----> 8\u001b[1;33m \u001b[0mfib\u001b[0m\u001b[1;33m(\u001b[0m\u001b[1;36m5\u001b[0m\u001b[1;33m)\u001b[0m\u001b[1;33m\u001b[0m\u001b[0m\n\u001b[0m",
      "\u001b[1;32m<ipython-input-65-f0933c2c5a8d>\u001b[0m in \u001b[0;36mfib\u001b[1;34m(n)\u001b[0m\n\u001b[0;32m      3\u001b[0m     \u001b[1;32mwhile\u001b[0m \u001b[0mtot\u001b[0m \u001b[1;33m<\u001b[0m \u001b[0mn\u001b[0m \u001b[1;33m:\u001b[0m\u001b[1;33m\u001b[0m\u001b[0m\n\u001b[0;32m      4\u001b[0m         \u001b[0mn\u001b[0m\u001b[1;33m=\u001b[0m\u001b[0mn\u001b[0m\u001b[1;33m-\u001b[0m\u001b[1;36m1\u001b[0m\u001b[1;33m\u001b[0m\u001b[0m\n\u001b[1;32m----> 5\u001b[1;33m         \u001b[0mtot\u001b[0m \u001b[1;33m=\u001b[0m  \u001b[0mfib\u001b[0m\u001b[1;33m(\u001b[0m\u001b[0mn\u001b[0m\u001b[1;33m-\u001b[0m\u001b[1;36m1\u001b[0m\u001b[1;33m)\u001b[0m \u001b[1;33m+\u001b[0m \u001b[0mfib\u001b[0m\u001b[1;33m(\u001b[0m\u001b[0mn\u001b[0m\u001b[1;33m-\u001b[0m\u001b[1;36m2\u001b[0m\u001b[1;33m)\u001b[0m\u001b[1;33m\u001b[0m\u001b[0m\n\u001b[0m\u001b[0;32m      6\u001b[0m     \u001b[0mprint\u001b[0m\u001b[1;33m(\u001b[0m\u001b[0mtot\u001b[0m\u001b[1;33m)\u001b[0m\u001b[1;33m\u001b[0m\u001b[0m\n\u001b[0;32m      7\u001b[0m \u001b[0mn\u001b[0m\u001b[1;33m=\u001b[0m\u001b[1;36m5\u001b[0m\u001b[1;33m\u001b[0m\u001b[0m\n",
      "\u001b[1;32m<ipython-input-65-f0933c2c5a8d>\u001b[0m in \u001b[0;36mfib\u001b[1;34m(n)\u001b[0m\n\u001b[0;32m      3\u001b[0m     \u001b[1;32mwhile\u001b[0m \u001b[0mtot\u001b[0m \u001b[1;33m<\u001b[0m \u001b[0mn\u001b[0m \u001b[1;33m:\u001b[0m\u001b[1;33m\u001b[0m\u001b[0m\n\u001b[0;32m      4\u001b[0m         \u001b[0mn\u001b[0m\u001b[1;33m=\u001b[0m\u001b[0mn\u001b[0m\u001b[1;33m-\u001b[0m\u001b[1;36m1\u001b[0m\u001b[1;33m\u001b[0m\u001b[0m\n\u001b[1;32m----> 5\u001b[1;33m         \u001b[0mtot\u001b[0m \u001b[1;33m=\u001b[0m  \u001b[0mfib\u001b[0m\u001b[1;33m(\u001b[0m\u001b[0mn\u001b[0m\u001b[1;33m-\u001b[0m\u001b[1;36m1\u001b[0m\u001b[1;33m)\u001b[0m \u001b[1;33m+\u001b[0m \u001b[0mfib\u001b[0m\u001b[1;33m(\u001b[0m\u001b[0mn\u001b[0m\u001b[1;33m-\u001b[0m\u001b[1;36m2\u001b[0m\u001b[1;33m)\u001b[0m\u001b[1;33m\u001b[0m\u001b[0m\n\u001b[0m\u001b[0;32m      6\u001b[0m     \u001b[0mprint\u001b[0m\u001b[1;33m(\u001b[0m\u001b[0mtot\u001b[0m\u001b[1;33m)\u001b[0m\u001b[1;33m\u001b[0m\u001b[0m\n\u001b[0;32m      7\u001b[0m \u001b[0mn\u001b[0m\u001b[1;33m=\u001b[0m\u001b[1;36m5\u001b[0m\u001b[1;33m\u001b[0m\u001b[0m\n",
      "\u001b[1;32m<ipython-input-65-f0933c2c5a8d>\u001b[0m in \u001b[0;36mfib\u001b[1;34m(n)\u001b[0m\n\u001b[0;32m      3\u001b[0m     \u001b[1;32mwhile\u001b[0m \u001b[0mtot\u001b[0m \u001b[1;33m<\u001b[0m \u001b[0mn\u001b[0m \u001b[1;33m:\u001b[0m\u001b[1;33m\u001b[0m\u001b[0m\n\u001b[0;32m      4\u001b[0m         \u001b[0mn\u001b[0m\u001b[1;33m=\u001b[0m\u001b[0mn\u001b[0m\u001b[1;33m-\u001b[0m\u001b[1;36m1\u001b[0m\u001b[1;33m\u001b[0m\u001b[0m\n\u001b[1;32m----> 5\u001b[1;33m         \u001b[0mtot\u001b[0m \u001b[1;33m=\u001b[0m  \u001b[0mfib\u001b[0m\u001b[1;33m(\u001b[0m\u001b[0mn\u001b[0m\u001b[1;33m-\u001b[0m\u001b[1;36m1\u001b[0m\u001b[1;33m)\u001b[0m \u001b[1;33m+\u001b[0m \u001b[0mfib\u001b[0m\u001b[1;33m(\u001b[0m\u001b[0mn\u001b[0m\u001b[1;33m-\u001b[0m\u001b[1;36m2\u001b[0m\u001b[1;33m)\u001b[0m\u001b[1;33m\u001b[0m\u001b[0m\n\u001b[0m\u001b[0;32m      6\u001b[0m     \u001b[0mprint\u001b[0m\u001b[1;33m(\u001b[0m\u001b[0mtot\u001b[0m\u001b[1;33m)\u001b[0m\u001b[1;33m\u001b[0m\u001b[0m\n\u001b[0;32m      7\u001b[0m \u001b[0mn\u001b[0m\u001b[1;33m=\u001b[0m\u001b[1;36m5\u001b[0m\u001b[1;33m\u001b[0m\u001b[0m\n",
      "\u001b[1;31mTypeError\u001b[0m: unsupported operand type(s) for +: 'NoneType' and 'NoneType'"
     ]
    }
   ],
   "source": [
    "def fib(n):\n",
    "    tot = 0\n",
    "    while tot < n :\n",
    "        n=n-1\n",
    "        tot =  fib(n-1) + fib(n-2)\n",
    "    print(tot)\n",
    "n=5\n",
    "fib(5)"
   ]
  },
  {
   "cell_type": "code",
   "execution_count": 64,
   "metadata": {},
   "outputs": [
    {
     "name": "stdout",
     "output_type": "stream",
     "text": [
      "0\n",
      "1\n",
      "1\n",
      "2\n",
      "3\n"
     ]
    }
   ],
   "source": [
    "def GenerateFibonaci(n):\n",
    " if(n == 0):\n",
    "  return 0\n",
    " elif(n == 1):\n",
    "  return 1\n",
    " else:\n",
    "  return GenerateFibonaci(n-1) + GenerateFibonaci(n-2)\n",
    "n=5\n",
    "for i in range(n):\n",
    " print(GenerateFibonaci(i))"
   ]
  },
  {
   "cell_type": "code",
   "execution_count": 67,
   "metadata": {},
   "outputs": [
    {
     "name": "stdout",
     "output_type": "stream",
     "text": [
      "[7, 22, 11, 34, 17, 52, 26, 13, 40, 20, 10, 5, 16, 8, 4, 2, 1]\n"
     ]
    }
   ],
   "source": [
    "def nextcollatz(n:int)->int:\n",
    "    return n//2 if n%2 == 0 else 3*n+1\n",
    "def collatzseq(n:int)->[int]:\n",
    "    if n == 4:\n",
    "        return [4,2,1]\n",
    "    return [n] + collatzseq(nextcollatz(n))\n",
    "#import sys\n",
    "start = 7 #int(sys.argv[1])\n",
    "print(collatzseq(start))"
   ]
  },
  {
   "cell_type": "code",
   "execution_count": 69,
   "metadata": {},
   "outputs": [
    {
     "name": "stdout",
     "output_type": "stream",
     "text": [
      "[7, 22, 11, 34, 17, 52, 26, 13, 40, 20, 10, 5, 16, 8, 4, 2, 1]\n"
     ]
    }
   ],
   "source": [
    "def nextcollatz(n:int)->int:\n",
    "    return n//2 if n%2 == 0 else 3*n+1\n",
    "def collatzseq(n:int)->[int]:\n",
    "    yield n\n",
    "    while n!=4:\n",
    "        n=nextcollatz(n)\n",
    "        yield n\n",
    "    yield 2\n",
    "    yield 1\n",
    "#import sys\n",
    "start = 7 #int(sys.argv[1])\n",
    "print( [x for x in collatzseq(start)])"
   ]
  },
  {
   "cell_type": "code",
   "execution_count": 70,
   "metadata": {},
   "outputs": [
    {
     "name": "stdout",
     "output_type": "stream",
     "text": [
      "[7, 22, 11, 34, 17, 52, 26, 13, 40, 20, 10, 5, 16, 8, 4, 2, 1]\n"
     ]
    }
   ],
   "source": [
    "def nextcollatz(n:int)->int:\n",
    "    return n//2 if n%2 == 0 else 3*n+1\n",
    "def collatzseq(n:int)->[int]:\n",
    "    while n!=4:\n",
    "        yield n\n",
    "        n=nextcollatz(n)\n",
    "    yield 4\n",
    "    yield 2\n",
    "    yield 1\n",
    "#import sys\n",
    "start = 7 #int(sys.argv[1])\n",
    "print( [x for x in collatzseq(start)])"
   ]
  },
  {
   "cell_type": "code",
   "execution_count": 89,
   "metadata": {},
   "outputs": [
    {
     "ename": "SyntaxError",
     "evalue": "invalid syntax (<ipython-input-89-e9fd5f15fd46>, line 22)",
     "output_type": "error",
     "traceback": [
      "\u001b[1;36m  File \u001b[1;32m\"<ipython-input-89-e9fd5f15fd46>\"\u001b[1;36m, line \u001b[1;32m22\u001b[0m\n\u001b[1;33m    print(for i in genkaprekar(4004):)\u001b[0m\n\u001b[1;37m            ^\u001b[0m\n\u001b[1;31mSyntaxError\u001b[0m\u001b[1;31m:\u001b[0m invalid syntax\n"
     ]
    }
   ],
   "source": [
    "#KAPREKAR\n",
    "#1729\n",
    "#str(n)->\"1729\"\n",
    "#sorted(str(n))->[\"1\",\"2\",\"7\",\"9\"]\n",
    "#\"1279\"\n",
    "#def num2digits(n:int)->int:\n",
    "    #return [ int(ch)]\n",
    "def largest(n):\n",
    "    return int(' '.join(sorted(str(n),reverse=True)))\n",
    "def smallest(n):\n",
    "    return int(' '.join(sorted(str(n))))\n",
    "def next(n):\n",
    "    return largest(n)-smallest(n)\n",
    "def genkaprekar(n):\n",
    "    prev=0\n",
    "    while next(n) != prev:\n",
    "        yield n\n",
    "        prev=n\n",
    "        n = next(n)\n",
    "    else:\n",
    "        yield n\n",
    "print(for i in genkaprekar(4004):)\n",
    "\n",
    "    "
   ]
  },
  {
   "cell_type": "code",
   "execution_count": 86,
   "metadata": {},
   "outputs": [
    {
     "name": "stdout",
     "output_type": "stream",
     "text": [
      "False\n"
     ]
    }
   ],
   "source": [
    "def f(a:bool,b:bool,c:bool)->bool:\n",
    "    REQD_TRUE_COUNT=2\n",
    "    true_count=0\n",
    "    if a:\n",
    "        true_count+=1\n",
    "    if b:\n",
    "        true_count+=1\n",
    "    if c:\n",
    "        true_count+=1\n",
    "    return true_count==REQD_TRUE_COUNT\n",
    "print(f(True,False,False))"
   ]
  },
  {
   "cell_type": "code",
   "execution_count": null,
   "metadata": {},
   "outputs": [],
   "source": [
    "class Customer:\n",
    "    def __init__(self,name):\n",
    "        self.name=name\n",
    "    def display(self):\n",
    "        print(\"I am\",self.name)\n",
    "c=Customer(\"BVRIT\")\n",
    "print(c.name)\n",
    "c.display()\n"
   ]
  },
  {
   "cell_type": "code",
   "execution_count": 20,
   "metadata": {},
   "outputs": [],
   "source": [
    "#import Student\n",
    "class Student():\n",
    "    college=\"BVRITN\"\n",
    "    def __init__(self,roll_num,name):\n",
    "        self.name=name\n",
    "        self.roll_num=roll_num\n",
    "        #self.college=\"BVRIT\"\n",
    "    \n",
    "    def __repr__(self):\n",
    "        return \"%s, %s from %s\" %(self.roll_num,self.name,Student.college)\n",
    "\n",
    "#dir(Student)\n",
    "#s=Student.Student(\"10056\",\"SREEDHAR JINKA\")\n",
    "#print(s)"
   ]
  },
  {
   "cell_type": "code",
   "execution_count": 19,
   "metadata": {},
   "outputs": [
    {
     "ename": "ModuleNotFoundError",
     "evalue": "No module named 'Student'",
     "output_type": "error",
     "traceback": [
      "\u001b[1;31m---------------------------------------------------------------------------\u001b[0m",
      "\u001b[1;31mModuleNotFoundError\u001b[0m                       Traceback (most recent call last)",
      "\u001b[1;32m<ipython-input-19-052afbf25ee7>\u001b[0m in \u001b[0;36m<module>\u001b[1;34m()\u001b[0m\n\u001b[1;32m----> 1\u001b[1;33m \u001b[1;32mimport\u001b[0m \u001b[0mStudent\u001b[0m\u001b[1;33m\u001b[0m\u001b[0m\n\u001b[0m\u001b[0;32m      2\u001b[0m \u001b[0mdir\u001b[0m\u001b[1;33m(\u001b[0m\u001b[0mStudent\u001b[0m\u001b[1;33m)\u001b[0m\u001b[1;33m\u001b[0m\u001b[0m\n\u001b[0;32m      3\u001b[0m \u001b[0ms\u001b[0m\u001b[1;33m=\u001b[0m\u001b[0mStudent\u001b[0m\u001b[1;33m.\u001b[0m\u001b[0mStudent\u001b[0m\u001b[1;33m(\u001b[0m\u001b[1;34m\"10056\"\u001b[0m\u001b[1;33m,\u001b[0m\u001b[1;34m\"SREEDHAR JINKA\"\u001b[0m\u001b[1;33m)\u001b[0m\u001b[1;33m\u001b[0m\u001b[0m\n\u001b[0;32m      4\u001b[0m \u001b[0mprint\u001b[0m\u001b[1;33m(\u001b[0m\u001b[0ms\u001b[0m\u001b[1;33m)\u001b[0m\u001b[1;33m\u001b[0m\u001b[0m\n",
      "\u001b[1;31mModuleNotFoundError\u001b[0m: No module named 'Student'"
     ]
    }
   ],
   "source": [
    "import Student\n",
    "dir(Student)\n",
    "s=Student.Student(\"10056\",\"SREEDHAR JINKA\")\n",
    "print(s)\n"
   ]
  },
  {
   "cell_type": "code",
   "execution_count": 45,
   "metadata": {},
   "outputs": [
    {
     "name": "stdout",
     "output_type": "stream",
     "text": [
      "[['accertino', 'cercinato', 'concertai', 'concitare', 'concitera', 'concreati', 'concretai', 'necrotica'], ['accosci', 'caccosi', 'cosacci', 'iscacco', 'scaccio', 'sciacco', 'sciocca', 'scoccai'], ['acervo', 'cavero', 'ceravo', 'recavo', 'revoca', 'vocare', 'vocera', 'vorace'], ['acrani', 'arcani', 'arnica', 'canari', 'carina', 'carnai', 'inarca', 'ircana', 'racani', 'rancai'], ['arcinote', 'caroteni', 'carotine', 'conterai', 'incerato', 'incorate', 'increato', 'nericato', 'recitano'], ['arcone', 'canore', 'careno', 'carneo', 'cerano', 'cerona', 'nocera', 'recano'], ['arconi', 'carino', 'corani', 'cranio', 'inarco', 'incora', 'ircano', 'rancio'], ['arneis', 'arnesi', 'arsine', 'raseni', 'resina', 'senari', 'serina', 'sirena'], ['arpinate', 'patarine', 'paterina', 'patinare', 'patinera', 'rapinate', 'tapinare', 'tapinera'], ['arpista', 'asprita', 'parasti', 'rapasti', 'raspati', 'satrapi', 'sparati', 'sparita', 'spirata'], ['arpiste', 'paresti', 'pratesi', 'prestai', 'rapiste', 'serpita', 'sparite', 'sperati', 'spirate', 'spretai', 'stipare'], ['articine', 'cantieri', 'cinterai', 'incerati', 'incitare', 'incitera', 'increati', 'nericati', 'neritica', 'recintai', 'retinica'], ['asilanti', 'inalasti', 'insalati', 'insilata', 'salatini', 'salinati', 'salinita', 'salitina', 'slatinai'], ['asprino', 'prasino', 'prosina', 'raspino', 'soprani', 'sparino', 'spirano', 'spronai'], ['assentire', 'asserenti', 'astenersi', 'interasse', 'intessera', 'naseresti', 'resinaste', 'retinasse', 'serenasti', 'tesserina'], ['asserite', 'esistera', 'estasire', 'esterasi', 'iterasse', 'seriaste', 'staserei', 'tasserei', 'tesserai'], ['astenici', 'cestinai', 'cineasti', 'cisteina', 'incestai', 'itacensi', 'scatenii', 'sciatine'], ['attesi', 'esatti', 'estati', 'istate', 'sitate', 'teista', 'tesati', 'testai'], ['attinse', 'estanti', 'estinta', 'instate', 'intesta', 'istante', 'sentita', 'sitante', 'statine', 'stentai', 'testina'], ['canoniste', 'casentino', 'cestinano', 'cosentina', 'incensato', 'incestano', 'innescato', 'inscenato', 'scatenino', 'scotennai'], ['caponasti', 'patiscano', 'scapatoni', 'scapitano', 'scaponita', 'scopatina', 'scopinata', 'sincopata', 'spanciato'], ['capresi', 'crespai', 'perisca', 'persica', 'piscera', 'rapisce', 'scipare', 'spicare', 'sprecai'], ['careni', 'carine', 'carnei', 'cerina', 'ernica', 'incera', 'ircane', 'narice', 'nerica'], ['carenti', 'cartine', 'ceranti', 'cernita', 'cintare', 'cintera', 'crenati', 'cretina', 'incerta', 'nacrite', 'narteci', 'recanti', 'recinta'], ['carite', 'cerati', 'citare', 'citera', 'creati', 'recati', 'recita', 'retica'], ['castine', 'cenasti', 'censita', 'cestina', 'incesta', 'nascite', 'scateni', 'secanti', 'stenica'], ['cavitino', 'conativi', 'convitai', 'incitavo', 'invocati', 'nocivita', 'vaticino', 'vicinato'], ['censorati', 'consertai', 'consterai', 'incoraste', 'necrosati', 'sciorante', 'sconterai', 'sincerato'], ['cestinare', 'cestinera', 'inceraste', 'incestare', 'incestera', 'nericaste', 'recensita', 'resecanti', 'secretina', 'sincerate'], ['cipresso', 'coprisse', 'cospersi', 'cresposi', 'percossi', 'processi', 'scopersi', 'spreciso'], ['cornista', 'crastino', 'cronista', 'crostina', 'incrosta', 'scartino', 'scoranti', 'scornati', 'scrinato'], ['erniato', 'iterano', 'noterai', 'onerati', 'rateino', 'ratione', 'reatino', 'tenario'], ['esornati', 'intasero', 'onerasti', 'ostinare', 'ostinera', 'renosita', 'resinato', 'sartione', 'satinero', 'serotina'], ['espirano', 'inaspero', 'rapinose', 'separino', 'spaniero', 'speronai', 'spionare', 'spionera'], ['espirato', 'operasti', 'operista', 'ospitare', 'ospitera', 'posterai', 'proteasi', 'spiatore'], ['espro', 'perso', 'preso', 'prose', 'respo', 'serpo', 'spero', 'spore'], ['inastare', 'inastera', 'intasera', 'rasentai', 'resinata', 'satinare', 'satinera', 'seratina', 'stanerai', 'stearina'], ['incerasti', 'incistare', 'incistera', 'inretisca', 'nericasti', 'sincerati', 'sincerita', 'stirenica'], ['ipotenar', 'partenio', 'paterino', 'patinero', 'peritano', 'prenotai', 'pritaneo', 'proteina', 'tapinero'], ['parentali', 'parlatine', 'paternali', 'perlinata', 'platinare', 'platinera', 'pralinate', 'prelatina', 'prenatali'], ['persino', 'pinsero', 'presino', 'prosine', 'serponi', 'sperino', 'speroni', 'spinero', 'spinore'], ['restavi', 'servita', 'svitare', 'svitera', 'verista', 'versati', 'vestira', 'viraste', 'vistare', 'vistera']]\n"
     ]
    }
   ],
   "source": [
    "def signature(w: str) -> str:\n",
    "    return ''.join(sorted(w))\n",
    "FILE = \"C:/Users/SREEDHAR/Desktop/9/zingarelli2005.txt\"\n",
    "words = [line.strip() for line in open(FILE)]\n",
    "candidates = { }\n",
    "for word in words:\n",
    "    sig = signature(word)\n",
    "    if sig in candidates:\n",
    "        candidates[sig].append(word)\n",
    "    else:\n",
    "        candidates[sig] = [word]\n",
    "        \n",
    "anagrams = [candidates[w] for w in candidates if len(candidates[w]) > 7]\n",
    "print(anagrams)\n"
   ]
  },
  {
   "cell_type": "code",
   "execution_count": null,
   "metadata": {},
   "outputs": [],
   "source": [
    "#TENNIS SCORING SYSTEM\n",
    "CRLF = \"\\n\"\n",
    "GAME =4\n",
    "SET=6\n",
    "DIFF = 2\n",
    "SEP = \" - \"\n",
    "class TennisScore():\n",
    "    pointNames = [\"Love\", \"15\", \"30\", \"40\"]\n",
    "    \n",
    "    def __init__(self):\n",
    "        self.aScore,self.bScore=0,0\n",
    "        self.aSets,self.bSets=0,0\n",
    "        self.aGames,self.bGames=0,0\n",
    "        self.aPoints,self.bPoints=0,0\n",
    "        \n",
    "    def __repr__(self):\n",
    "        setLine = \"Sets: %d  - %d\" %(self.aSets,self.bSets)\n",
    "        gameLine = \"Games: %d - %d\" %(self.a.Games,self.bGames)\n",
    "        ptsLine = \"Points: %s - %s\" %(self.score(self.aPoints,self.bPoints))\n",
    "        return setLine + CRLF + gameLine + CRLF + ptsLine + CRLF\n",
    "        \n",
    "    def isGame(self):\n",
    "        who = \"A\" if self.aPoints > self.bPoints else \"B\"\n",
    "        return max(self.aPoints,self.bPoints) >= GAME and abs(self.aPoints - self.bPoints) > DIFF,who\n",
    "    \n",
    "    def isSet(self):\n",
    "        who = \"A\" if self.aGames > self.bGames else \"B\"\n",
    "        return max(self.aGames,self.bGames) >= SET and abs(self.aGames - self.bGames) > DIFF,  who\n",
    "    \n",
    "    def score(a,b):\n",
    "        if a < GAME and b < GAME:\n",
    "            if a == b:\n",
    "                scoreLine = TennisScore.pointNames[a] + \"ALL\"\n",
    "            else:\n",
    "                scoreLine = TennisScore.pointNames[a] + \"ALL\" + SEP + TennisScore.pointNames[b]\n",
    "        else:\n",
    "            if a == b:\n",
    "                scoreLine = \" DEUCE \"\n",
    "            elif a > b:\n",
    "                scoreLine = \" ADV \"\n",
    "            else:\n",
    "                scoreLine = \"    ADV\"\n",
    "        return scoreLine \n",
    "           \n",
    "    \n",
    "    def scorePoint(self,winner):\n",
    "        if winner == \"A\":\n",
    "            self.aPoint += 1\n",
    "        else:\n",
    "            self.bPoint += 1\n",
    "        isgame,game_winner = self.isGame()\n",
    "\n",
    "        if isgame:\n",
    "            self.aPoints,self.bPoints=0,0\n",
    "            if game_winner==\"A\":\n",
    "                self.aGames += 1\n",
    "            else:\n",
    "                self.bGames += 1\n",
    "        isset,set_winner = self.isSet()\n",
    "        if isset:\n",
    "            self.aGames, self.bGames = 0,0\n",
    "            if  set_winner == \"A\":\n",
    "                 self.aSets += 1\n",
    "            else:\n",
    "                self.bSets += 1"
   ]
  },
  {
   "cell_type": "code",
   "execution_count": 42,
   "metadata": {},
   "outputs": [],
   "source": [
    "#ODOMETER FUNCTIONALITY PROGRAM\n"
   ]
  },
  {
   "cell_type": "code",
   "execution_count": null,
   "metadata": {},
   "outputs": [],
   "source": [
    "#higher order functions : map()/filter()/reduce()\n",
    "#immutable\n",
    "#list comprehension\n",
    "#kaprekar program\n",
    "#collatz sequence program\n",
    "#object oriented programming\n",
    "#odometer program\n",
    "#tennis scoring program\n",
    "#printing dictionary program\n",
    "#features of the language"
   ]
  },
  {
   "cell_type": "code",
   "execution_count": 65,
   "metadata": {},
   "outputs": [
    {
     "ename": "NameError",
     "evalue": "name 'PF2' is not defined",
     "output_type": "error",
     "traceback": [
      "\u001b[1;31m---------------------------------------------------------------------------\u001b[0m",
      "\u001b[1;31mNameError\u001b[0m                                 Traceback (most recent call last)",
      "\u001b[1;32m<ipython-input-65-77479c052ba4>\u001b[0m in \u001b[0;36m<module>\u001b[1;34m()\u001b[0m\n\u001b[0;32m      1\u001b[0m \u001b[0mRULE\u001b[0m \u001b[1;33m=\u001b[0m \u001b[1;34m\"PF2 = 0.18 * BASIC\"\u001b[0m\u001b[1;33m\u001b[0m\u001b[0m\n\u001b[0;32m      2\u001b[0m \u001b[0mBASIC\u001b[0m \u001b[1;33m=\u001b[0m \u001b[1;36m1900\u001b[0m\u001b[1;33m\u001b[0m\u001b[0m\n\u001b[1;32m----> 3\u001b[1;33m \u001b[0mPF2\u001b[0m\u001b[1;33m\u001b[0m\u001b[0m\n\u001b[0m",
      "\u001b[1;31mNameError\u001b[0m: name 'PF2' is not defined"
     ]
    }
   ],
   "source": [
    "RULE = \"PF2 = 0.18 * BASIC\"\n",
    "BASIC = 1900\n",
    "PF2"
   ]
  },
  {
   "cell_type": "code",
   "execution_count": 63,
   "metadata": {},
   "outputs": [
    {
     "data": {
      "text/plain": [
       "342.0"
      ]
     },
     "execution_count": 63,
     "metadata": {},
     "output_type": "execute_result"
    }
   ],
   "source": [
    "exec(RULE)\n",
    "PF1"
   ]
  },
  {
   "cell_type": "code",
   "execution_count": null,
   "metadata": {},
   "outputs": [],
   "source": [
    "#PROJECTTRAILOR\n",
    "#ADVENT OF CODE"
   ]
  },
  {
   "cell_type": "code",
   "execution_count": 57,
   "metadata": {},
   "outputs": [
    {
     "data": {
      "text/plain": [
       "204"
      ]
     },
     "execution_count": 57,
     "metadata": {},
     "output_type": "execute_result"
    }
   ],
   "source": [
    "s=\"17 * 12\"\n",
    "eval(s)"
   ]
  },
  {
   "cell_type": "code",
   "execution_count": null,
   "metadata": {},
   "outputs": [],
   "source": [
    "#numpy,scipy,matplotli,seaborn,bokeh,graphics2,networkx,lxml,beautifulsoap,"
   ]
  }
 ],
 "metadata": {
  "kernelspec": {
   "display_name": "Python 3",
   "language": "python",
   "name": "python3"
  },
  "language_info": {
   "codemirror_mode": {
    "name": "ipython",
    "version": 3
   },
   "file_extension": ".py",
   "mimetype": "text/x-python",
   "name": "python",
   "nbconvert_exporter": "python",
   "pygments_lexer": "ipython3",
   "version": "3.6.4"
  }
 },
 "nbformat": 4,
 "nbformat_minor": 2
}
